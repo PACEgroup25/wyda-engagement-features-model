{
 "cells": [
  {
   "cell_type": "code",
   "execution_count": 21,
   "id": "8bf5b9de",
   "metadata": {},
   "outputs": [
    {
     "name": "stdout",
     "output_type": "stream",
     "text": [
      "Libraries loaded\n"
     ]
    }
   ],
   "source": [
    "import pandas as pd\n",
    "import numpy  as np\n",
    "from pathlib import Path\n",
    "print(\"Libraries loaded\")"
   ]
  },
  {
   "cell_type": "markdown",
   "id": "e08bb1f3",
   "metadata": {},
   "source": [
    "# Step 2 load raw csv files"
   ]
  },
  {
   "cell_type": "code",
   "execution_count": 22,
   "id": "aed0a89c",
   "metadata": {},
   "outputs": [
    {
     "name": "stdout",
     "output_type": "stream",
     "text": [
      "(47, 9) (1153, 17) (23924, 23) (3224, 15)\n"
     ]
    }
   ],
   "source": [
    "root = Path(\"/Users/benymean/Desktop/WYDA Data/Test Data\")          # adjustable\n",
    "\n",
    "users      = pd.read_csv(root/\"Users.csv\",\n",
    "                         parse_dates=[\"created_at\", \"updated_at\"])\n",
    "attempts   = pd.read_csv(root/\"ScenariosAttempts.csv\",\n",
    "                         parse_dates=[\"created_at\", \"finished_at\"])\n",
    "responses  = pd.read_csv(root/\"ScenariosResponses.csv\")\n",
    "reflect    = pd.read_csv(root/\"ReflectionsResponses.csv\")\n",
    "\n",
    "print(users.shape, attempts.shape, responses.shape, reflect.shape)\n",
    "assert users.shape[0] > 0, \"Users table empty\"\n"
   ]
  },
  {
   "cell_type": "markdown",
   "id": "44aa5f05",
   "metadata": {},
   "source": [
    "# Step 3 Cleaning column names\n",
    "\n",
    "All four tables share learner IDs but name them differently (id, user_id). Renaming removes ambiguity so merges are one-liner joins rather than fiddly look-ups.\n",
    "\n",
    "Remove noise. PartitionKey and RowKey come from Azure Table Storage are useful only for the original back-end not for analytics. Keeping them risks accidentally treating them as categorical features.\n",
    "\n",
    "Future-proofing. Clean, snake-case names are easier to call in functions and avoid clashes with reserved words."
   ]
  },
  {
   "cell_type": "code",
   "execution_count": 23,
   "id": "d3414e18",
   "metadata": {},
   "outputs": [],
   "source": [
    "# Dropping Azure storage keys we won’t model on\n",
    "for df in (users, attempts, responses, reflect):\n",
    "    df.drop(columns=[c for c in df.columns if c in (\"PartitionKey\",\n",
    "                                                    \"RowKey\")],\n",
    "            inplace=True, errors=\"ignore\")\n",
    "\n",
    "# Giving consistent id names\n",
    "attempts.rename (columns={\"id\":\"attempt_id\"},  inplace=True)\n",
    "responses.rename(columns={\"id\":\"response_id\"}, inplace=True)\n",
    "reflect.rename  (columns={\"id\":\"reflection_id\"}, inplace=True)\n"
   ]
  },
  {
   "cell_type": "code",
   "execution_count": 24,
   "id": "85264c6c",
   "metadata": {},
   "outputs": [],
   "source": [
    "expected = {\"attempt_id\", \"user_id\", \"scenario_id\"}\n",
    "assert expected.issubset(attempts.columns)"
   ]
  },
  {
   "cell_type": "markdown",
   "id": "0ff3eb99",
   "metadata": {},
   "source": [
    "# Step 4 basic data health check\n",
    "If a column shows > 60 % missing, we decide whether to drop or impute it."
   ]
  },
  {
   "cell_type": "code",
   "execution_count": 25,
   "id": "91c90b4c",
   "metadata": {},
   "outputs": [
    {
     "name": "stdout",
     "output_type": "stream",
     "text": [
      "users: top NA %\n",
      "id            0.0\n",
      "email         0.0\n",
      "region        0.0\n",
      "created_at    0.0\n",
      "createdAt     0.0\n",
      "dtype: float64\n",
      "\n",
      "attempts: top NA %\n",
      "wellbeing             64.874241\n",
      "correct_percentage    59.410234\n",
      "points                55.680833\n",
      "attempt_id             0.000000\n",
      "user_id                0.000000\n",
      "dtype: float64\n",
      "\n",
      "responses: top NA %\n",
      "question_response_4    99.995820\n",
      "question_response_3    99.736666\n",
      "question_response_2    99.565290\n",
      "question_response_1    99.097141\n",
      "option_id              15.871092\n",
      "dtype: float64\n",
      "\n",
      "reflect: top NA %\n",
      "response         41.563275\n",
      "reflection_id     0.000000\n",
      "user_id           0.000000\n",
      "program_id        0.000000\n",
      "level_id          0.000000\n",
      "dtype: float64\n",
      "\n"
     ]
    }
   ],
   "source": [
    "def miss_report(df, name):\n",
    "    pct = (df.isna().mean()*100).sort_values(ascending=False)[:5]\n",
    "    print(f\"{name}: top NA %\\n{pct}\\n\")\n",
    "\n",
    "miss_report(users,      \"users\")\n",
    "miss_report(attempts,   \"attempts\")\n",
    "miss_report(responses,  \"responses\")\n",
    "miss_report(reflect,    \"reflect\")\n"
   ]
  },
  {
   "cell_type": "markdown",
   "id": "0c19f384",
   "metadata": {},
   "source": [
    "| Table | Column(s) > 60 % NA | Interpretation | Suggested action |\n",
    "|-------|---------------------|----------------|------------------|\n",
    "| **attempts** | `wellbeing` (65 %), `correct_percentage` (59 %), `points` (56 %) | Only ~⅓ of attempts store these metrics.  They’re useful but far from universal. | *Modelling:* keep them as features **and** add companion flags (`is_wellbeing_missing`, etc.) so tree models can learn “missingness=signal.”  For simple models, imputing with sentinel values (e.g., –1). |\n",
    "| **responses** | `question_response_1–4` (~99 %) | Each scenario uses only one of the four slots, so almost every row has three blanks by design. | Pivot or melt to a single “response_text” column when you process questions; ignore the others. |\n",
    "|  | `option_id` (16 %) | Null means the question wasn’t multiple-choice. | Safe to keep; missingness itself tells you question type. |\n",
    "| **reflect** | `response` (42 %) | 58 % of reflection rows contain text; 42 % are blank (skipped). | captured via `txt_completion_rate` |\n",
    "| **users** | *No missing values* | Good — demographic keys are intact. | — |"
   ]
  },
  {
   "cell_type": "markdown",
   "id": "39110768",
   "metadata": {},
   "source": [
    "# Step 5 features engineering\n",
    "\n",
    "Goal: collapse event-level logs into learner-level metrics that our model (and coaches) can easily digest.\n",
    "\n",
    "\n",
    "## 5.1 Prepare attempts for time-series ops\n",
    "- We guarantee chronological order inside each learner.\n",
    "- Cast possible text fields to numeric so aggregations work.\n",
    "\n",
    "\n",
    "\n",
    "\n",
    "## 5.2 `feat_attempts` – core performance & pace\n",
    "\n",
    "- assign(prev_time=…) adds the lagged timestamp.\n",
    "\n",
    "- Gaps for a learner’s first record stay NaN; .mean() auto-ignores.\n",
    "\n",
    "## 5.3 `feat_responses` – answer volume\n",
    "- Counts every question row across all scenarios.\n",
    "\n",
    "\n",
    "## 5.4 `feat_reflect` – reflection depth\n",
    "\n",
    "- `n_reflections` – how often they engage with reflection prompts.\n",
    "\n",
    "- `txt_completion_rate` – proportion of reflections that contain non-empty text.\n",
    "\n",
    "- Low completion often signals disengagement.\n",
    "\n",
    "\n",
    "## 5.5 Struggle flag – “retries without pass”\n",
    "- Learner kept retrying a scenario > 1 × but never passed → early frustration signal.\n",
    "\n",
    "## 5.6 Quick-win behavioural features (12 metrics)\n",
    "| Category | Feature | Formula |\n",
    "|----------|---------|---------|\n",
    "| **Performance & volume** | `pass_rate` | `n_passed / n_attempts` |\n",
    "|  | `retry_rate` | share of scenarios with >1 attempt |\n",
    "|  | `recent_7d_attempts` | attempts in last 7 days |\n",
    "| **Cadence** | `distinct_days_active` | unique active dates |\n",
    "|  | `longest_activity_streak` | max consecutive-day run |\n",
    "| **Points & effort** | `avg_points`, `points_std` | mean / std of `points` |\n",
    "|  | `total_minutes_spent` | Σ `duration`|\n",
    "| **Well-being & reflection** | `wellbeing_mean` | mean self-reported score |\n",
    "|  | `avg_reflection_len` | mean char length of reflection text |\n",
    "\n"
   ]
  },
  {
   "cell_type": "code",
   "execution_count": 26,
   "id": "cc1428bd",
   "metadata": {},
   "outputs": [],
   "source": [
    "# sort to make time series ops easier\n",
    "attempts.sort_values([\"user_id\", \"finished_at\"], inplace=True)\n",
    "\n",
    "feat_attempts = (\n",
    "    attempts\n",
    "      .assign(prev_time = attempts.groupby(\"user_id\")[\"finished_at\"].shift())\n",
    "      .pipe(lambda df: pd.DataFrame({\n",
    "          \"n_attempts\"     : df.groupby(\"user_id\").size(),\n",
    "          \"n_passed\"       : (df[\"state\"]==\"passed\").groupby(df[\"user_id\"]).sum(),\n",
    "          \"mean_gap_hours\" : (df[\"finished_at\"]-df[\"prev_time\"]\n",
    "                              ).dt.total_seconds().groupby(df[\"user_id\"]\n",
    "                              ).mean()/3600\n",
    "      }))\n",
    ")\n",
    "\n",
    "feat_responses = responses.groupby(\"user_id\").size().rename(\"n_question_rows\")\n",
    "feat_reflect   = reflect.groupby(\"user_id\").agg(\n",
    "                     n_reflections       = (\"reflection_id\",\"count\"),\n",
    "                     txt_completion_rate = (\"response\",\n",
    "                                            lambda s: (s.notna() & (s.str.len()>0)\n",
    "                                                       ).mean())\n",
    "                 )\n"
   ]
  },
  {
   "cell_type": "code",
   "execution_count": 27,
   "id": "dd423d45",
   "metadata": {},
   "outputs": [
    {
     "name": "stdout",
     "output_type": "stream",
     "text": [
      "                                      n_attempts  n_passed  mean_gap_hours\n",
      "user_id                                                                   \n",
      "008edba3-77e9-4b9b-a047-da5a1b98fd75           1         1             NaN\n",
      "04050ff3-37d3-4f18-abc6-0d7203d0106f          40        17       33.202707\n",
      "095af668-642a-40d2-abed-6fe199220ce0          28        12       39.509918\n",
      "0c78fdf3-85c4-4afe-85b2-851fe32a2a54          41        17       34.010438\n",
      "1c6f6075-03db-4876-bf5c-7c4dddfef825          16         8       54.665685\n"
     ]
    }
   ],
   "source": [
    "# Quick Test\n",
    "print(feat_attempts.head())\n",
    "assert feat_attempts.index.is_unique\n"
   ]
  },
  {
   "cell_type": "code",
   "execution_count": 28,
   "id": "b81bfa32",
   "metadata": {},
   "outputs": [],
   "source": [
    "tmp = (\n",
    "    attempts\n",
    "      .groupby([\"user_id\", \"scenario_id\"])\n",
    "      .agg(\n",
    "          n_attempts=(\"attempt_id\", \"count\"),\n",
    "          any_pass  =(\"state\",      lambda s: (s == \"passed\").any())\n",
    "      )\n",
    ")\n",
    "\n",
    "retries_no_pass = (\n",
    "    tmp.query(\"n_attempts > 1 and any_pass == False\")\n",
    "       .groupby(level=0)\n",
    "       .size()\n",
    "       .rename(\"n_retries_no_pass\")\n",
    ") \n"
   ]
  },
  {
   "cell_type": "code",
   "execution_count": 29,
   "id": "c5a34cf6",
   "metadata": {},
   "outputs": [],
   "source": [
    "# ╔══════════════════════════════════════════════════════════════════╗\n",
    "# ║         QUICK-WIN BEHAVIOURAL FEATURES (12 columns)\n",
    "# ╚══════════════════════════════════════════════════════════════════╝\n",
    "\n",
    "from functools import reduce\n",
    "\n",
    "# ── ensure numeric columns are really numeric ────────────────────────────\n",
    "for col in [\"points\", \"duration\", \"wellbeing\"]:\n",
    "    attempts[col] = pd.to_numeric(attempts[col], errors=\"coerce\")\n",
    "\n",
    "\n",
    "today = attempts[\"finished_at\"].max()  # snapshot 'now'\n",
    "\n",
    "# --- 1 pass_rate -------------------------------------------------------------\n",
    "pass_rate = (feat_attempts[\"n_passed\"] / feat_attempts[\"n_attempts\"]).fillna(0)\n",
    "\n",
    "# --- 2 recent_7d_attempts ----------------------------------------------------\n",
    "recent_7d = (\n",
    "    attempts[attempts.finished_at >= today - pd.Timedelta(days=7)]\n",
    "      .groupby(\"user_id\").size()\n",
    ")\n",
    "\n",
    "# --- 3 distinct_days_active --------------------------------------------------\n",
    "days_active = (\n",
    "    attempts.groupby('user_id')['finished_at']\n",
    "            .apply(lambda s: s.dt.date.nunique())\n",
    ")\n",
    "\n",
    "# --- 4 longest_activity_streak ----------------------------------------------\n",
    "def longest_streak(dates):\n",
    "    if len(dates) == 0:\n",
    "        return 0\n",
    "    d = pd.Series(sorted(dates)).diff().ne(pd.Timedelta(days=1)).cumsum()\n",
    "    return d.value_counts().max()\n",
    "\n",
    "streak = (\n",
    "    attempts.assign(day=attempts.finished_at.dt.date)\n",
    "            .drop_duplicates([\"user_id\",\"day\"])\n",
    "            .groupby(\"user_id\")[\"day\"]\n",
    "            .apply(longest_streak)\n",
    ")\n",
    "\n",
    "# --- 6 & 7 points mean / std -------------------------------------------------\n",
    "avg_pts = attempts.groupby(\"user_id\")[\"points\"].mean()\n",
    "std_pts = attempts.groupby(\"user_id\")[\"points\"].std()\n",
    "\n",
    "# --- 8 total_minutes_spent ---------------------------------------------------\n",
    "total_min = attempts[\"duration\"].groupby(attempts[\"user_id\"]).sum() / 60\n",
    "\n",
    "# --- 9 wellbeing_mean --------------------------------------------------------\n",
    "wb_mean = attempts.groupby(\"user_id\")[\"wellbeing\"].mean()\n",
    "\n",
    "# ---10 avg_reflection_len ----------------------------------------------------\n",
    "ref_len = (reflect.groupby(\"user_id\")[\"response\"]\n",
    "                   .apply(lambda s: s.dropna().str.len().mean()))\n",
    "\n",
    "# ---11 retry_rate ------------------------------------------------------------\n",
    "retry_rate = (\n",
    "    attempts.groupby([\"user_id\",\"scenario_id\"]).size().gt(1)\n",
    "            .groupby(level=0).mean()\n",
    ")\n",
    "\n",
    "# ---12 avg_attempts_to_first_pass -------------------------------------------\n",
    "def attempts_to_first_pass(g):\n",
    "    first_pass_idx = g[g[\"state\"]==\"passed\"].index.min()\n",
    "    return g.loc[:first_pass_idx].shape[0] if pd.notna(first_pass_idx) else np.nan\n",
    "\n",
    "first_pass = (\n",
    "    attempts.sort_values(\"finished_at\")\n",
    "            .groupby([\"user_id\",\"scenario_id\"])\n",
    "            .apply(attempts_to_first_pass)\n",
    ")\n",
    "\n",
    "first_pass_avg = first_pass.groupby(\"user_id\").mean()\n",
    "\n",
    "# ---------------------------------------------------------------------------\n",
    "# COLLECT EVERYTHING INTO ONE DATAFRAME\n",
    "quick_feats = {\n",
    "    \"pass_rate\"             : pass_rate,\n",
    "    \"recent_7d_attempts\"    : recent_7d,\n",
    "    \"distinct_days_active\"  : days_active,\n",
    "    \"longest_activity_streak\": streak,\n",
    "    \"avg_points\"            : avg_pts,\n",
    "    \"points_std\"            : std_pts,\n",
    "    \"total_minutes_spent\"   : total_min,\n",
    "    \"wellbeing_mean\"        : wb_mean,\n",
    "    \"avg_reflection_len\"    : ref_len,\n",
    "    \"retry_rate\"            : retry_rate,\n",
    "    \"avg_attempts_to_pass\"  : first_pass_avg,\n",
    "}\n",
    "\n",
    "# --- turn the dict of Series into a learner-level DataFrame --------------\n",
    "for name, s in quick_feats.items():\n",
    "    s.name = name\n",
    "\n",
    "quick_feats_df = (\n",
    "    pd.concat(quick_feats.values(), axis=1)   # align on user_id\n",
    "      .fillna(0)\n",
    ")\n",
    "quick_feats_df.index.name = \"user_id\"        # keep index for merging\n"
   ]
  },
  {
   "cell_type": "code",
   "execution_count": 30,
   "id": "827ce937",
   "metadata": {},
   "outputs": [
    {
     "name": "stdout",
     "output_type": "stream",
     "text": [
      "Core feats : (42, 3) (42,) (32, 2)\n",
      "Struggle   : (0,)\n",
      "Quick-win  : (42, 11)\n"
     ]
    }
   ],
   "source": [
    "# ── diagnostics -----------------------------------------------------------\n",
    "print(\"Core feats :\", feat_attempts.shape,\n",
    "      feat_responses.shape, feat_reflect.shape)\n",
    "print(\"Struggle   :\", retries_no_pass.shape)\n",
    "print(\"Quick-win  :\", quick_feats_df.shape)\n",
    "\n",
    "assert feat_attempts.index.is_unique, \"duplicate user_ids in feat_attempts\"\n",
    "assert quick_feats_df.index.is_unique, \"duplicate user_ids in quick_feats\"\n"
   ]
  },
  {
   "cell_type": "markdown",
   "id": "72a5d7dc",
   "metadata": {},
   "source": [
    "# Step 6 merge feature tables\n",
    "Combine everything into one learner-level frame; fill missing with 0."
   ]
  },
  {
   "cell_type": "code",
   "execution_count": 31,
   "id": "0d3aa5f4",
   "metadata": {},
   "outputs": [],
   "source": [
    "features = (\n",
    "    users.rename(columns={\"id\":\"user_id\"})\n",
    "         .merge(feat_attempts,   left_on=\"user_id\", right_index=True, how=\"left\")\n",
    "         .merge(feat_responses,  left_on=\"user_id\", right_index=True, how=\"left\")\n",
    "         .merge(feat_reflect,    left_on=\"user_id\", right_index=True, how=\"left\")\n",
    "         .merge(retries_no_pass, left_on=\"user_id\", right_index=True, how=\"left\")\n",
    "         .merge(quick_feats_df,  left_on=\"user_id\", right_index=True, how=\"left\")  # ← use *_df\n",
    ").fillna(0)\n"
   ]
  },
  {
   "cell_type": "code",
   "execution_count": 32,
   "id": "8aa511de",
   "metadata": {},
   "outputs": [],
   "source": [
    "# Quick test\n",
    "assert features.shape[0] == users.shape[0], \"Row mismatch after merge\"\n"
   ]
  },
  {
   "cell_type": "markdown",
   "id": "753efac8",
   "metadata": {},
   "source": [
    "# Step 7 create the target fall-behind flag\n",
    "\n",
    "## Why we need it\n",
    "A supervised model requires a known Y.\n",
    "We define “falling behind” as no recorded scenario activity for seven consecutive days.\n",
    "That is:\n",
    "\n",
    "last_finished_attempt + 7 days  <  today   →  fall_behind = 1\n",
    "otherwise                               →  fall_behind = 0\n",
    "\n"
   ]
  },
  {
   "cell_type": "code",
   "execution_count": 33,
   "id": "22625d36",
   "metadata": {},
   "outputs": [
    {
     "name": "stdout",
     "output_type": "stream",
     "text": [
      "Total scenarios in this module: 17\n",
      "                                user_id  n_scenarios_passed  module_complete\n",
      "0  008edba3-77e9-4b9b-a047-da5a1b98fd75                 1.0                0\n",
      "1  04050ff3-37d3-4f18-abc6-0d7203d0106f                17.0                1\n",
      "2  095af668-642a-40d2-abed-6fe199220ce0                12.0                0\n",
      "3  0c78fdf3-85c4-4afe-85b2-851fe32a2a54                17.0                1\n",
      "4  0feb4760-6f29-4532-ab2d-ca114fd4f0c7                 0.0                0\n"
     ]
    }
   ],
   "source": [
    "# How many distinct scenarios exist in the dataset?\n",
    "total_scenarios = attempts[\"scenario_id\"].nunique()\n",
    "print(\"Total scenarios in this module:\", total_scenarios)\n",
    "\n",
    "# For each learner, count distinct scenarios they have PASSED\n",
    "passed_scenarios = (\n",
    "    attempts[attempts[\"state\"] == \"passed\"]\n",
    "        .groupby(\"user_id\")[\"scenario_id\"]\n",
    "        .nunique()\n",
    "        .rename(\"n_scenarios_passed\")\n",
    ")\n",
    "\n",
    "# Merge that back to the features frame\n",
    "features = features.merge(passed_scenarios, on=\"user_id\", how=\"left\")\n",
    "features[\"n_scenarios_passed\"].fillna(0, inplace=True)\n",
    "\n",
    "# Mark completion\n",
    "features[\"module_complete\"] = (\n",
    "    features[\"n_scenarios_passed\"] >= total_scenarios\n",
    ").astype(int)\n",
    "\n",
    "print(features[[\"user_id\", \"n_scenarios_passed\", \"module_complete\"]].head())\n"
   ]
  },
  {
   "cell_type": "code",
   "execution_count": 34,
   "id": "b6bddc3b",
   "metadata": {},
   "outputs": [],
   "source": [
    "# Quick test\n",
    "assert features[\"module_complete\"].isin([0,1]).all(), \"Non-binary flag\""
   ]
  },
  {
   "cell_type": "code",
   "execution_count": 35,
   "id": "b0e3d71c",
   "metadata": {},
   "outputs": [
    {
     "name": "stdout",
     "output_type": "stream",
     "text": [
      "0    25\n",
      "1    22\n",
      "Name: fall_behind, dtype: int64\n"
     ]
    }
   ],
   "source": [
    "# keep previous days_since_last logic:\n",
    "last_act = attempts.groupby(\"user_id\")[\"finished_at\"].max()\n",
    "cutoff   = last_act + pd.Timedelta(days=7)\n",
    "today    = attempts[\"finished_at\"].max()      # or datetime.now(timezone.utc)\n",
    "\n",
    "features = features.merge(cutoff.rename(\"cutoff\"), on=\"user_id\", how=\"left\")\n",
    "features[\"days_since_last\"] = (\n",
    "        today - features[\"cutoff\"] + pd.Timedelta(days=7)\n",
    "    ).dt.days.fillna(np.inf)\n",
    "\n",
    "# behind = inactive ≥7d AND NOT module_complete\n",
    "features[\"fall_behind\"] = (\n",
    "    (features[\"days_since_last\"] >= 7) &\n",
    "    (features[\"module_complete\"] == 0)\n",
    ").astype(int)\n",
    "\n",
    "print(features[\"fall_behind\"].value_counts())\n"
   ]
  },
  {
   "cell_type": "markdown",
   "id": "6ea77ab3",
   "metadata": {},
   "source": [
    "### Edge-case handling\n",
    "\n",
    "Learners with zero attempts – last_act is NaN → days_since_last becomes ∞ → fall_behind = 1 (reasonable: never started).\n",
    "\n",
    "Future data – if the log uses UTC but the snapshot time zone shifts, the latest finished_at still defines “today”, so the rule remains stable.\n",
    "\n",
    "Chooses seven days now, but you can switch to 14 days or any heuristic by replacing pd.Timedelta(days=7).\n",
    "\n"
   ]
  },
  {
   "cell_type": "code",
   "execution_count": 36,
   "id": "43d3314a",
   "metadata": {},
   "outputs": [
    {
     "name": "stdout",
     "output_type": "stream",
     "text": [
      "0    25\n",
      "1    22\n",
      "Name: fall_behind, dtype: int64\n"
     ]
    }
   ],
   "source": [
    "# Quick test\n",
    "print(features[\"fall_behind\"].value_counts(dropna=False))\n",
    "assert {\"fall_behind\"}.issubset(features.columns)"
   ]
  },
  {
   "cell_type": "markdown",
   "id": "12196cca",
   "metadata": {},
   "source": []
  },
  {
   "cell_type": "markdown",
   "id": "d6f9d902",
   "metadata": {},
   "source": [
    "### Save the Data Frame"
   ]
  },
  {
   "cell_type": "code",
   "execution_count": 17,
   "id": "ee384b61",
   "metadata": {},
   "outputs": [
    {
     "data": {
      "text/html": [
       "<div>\n",
       "<style scoped>\n",
       "    .dataframe tbody tr th:only-of-type {\n",
       "        vertical-align: middle;\n",
       "    }\n",
       "\n",
       "    .dataframe tbody tr th {\n",
       "        vertical-align: top;\n",
       "    }\n",
       "\n",
       "    .dataframe thead th {\n",
       "        text-align: right;\n",
       "    }\n",
       "</style>\n",
       "<table border=\"1\" class=\"dataframe\">\n",
       "  <thead>\n",
       "    <tr style=\"text-align: right;\">\n",
       "      <th></th>\n",
       "      <th>user_id</th>\n",
       "      <th>email</th>\n",
       "      <th>region</th>\n",
       "      <th>created_at</th>\n",
       "      <th>createdAt</th>\n",
       "      <th>updated_at</th>\n",
       "      <th>updatedAt</th>\n",
       "      <th>n_attempts</th>\n",
       "      <th>n_passed</th>\n",
       "      <th>mean_gap_hours</th>\n",
       "      <th>...</th>\n",
       "      <th>total_minutes_spent</th>\n",
       "      <th>wellbeing_mean</th>\n",
       "      <th>avg_reflection_len</th>\n",
       "      <th>retry_rate</th>\n",
       "      <th>avg_attempts_to_pass</th>\n",
       "      <th>n_scenarios_passed</th>\n",
       "      <th>module_complete</th>\n",
       "      <th>cutoff</th>\n",
       "      <th>days_since_last</th>\n",
       "      <th>fall_behind</th>\n",
       "    </tr>\n",
       "  </thead>\n",
       "  <tbody>\n",
       "    <tr>\n",
       "      <th>0</th>\n",
       "      <td>008edba3-77e9-4b9b-a047-da5a1b98fd75</td>\n",
       "      <td>redacted@wydaemailexample.com</td>\n",
       "      <td>unknown</td>\n",
       "      <td>2025-04-14 20:57:25+00:00</td>\n",
       "      <td>2025-04-14T20:57:25Z</td>\n",
       "      <td>2025-04-14 20:57:25+00:00</td>\n",
       "      <td>2025-04-14T20:57:25Z</td>\n",
       "      <td>1.0</td>\n",
       "      <td>1.0</td>\n",
       "      <td>0.000000</td>\n",
       "      <td>...</td>\n",
       "      <td>11.916667</td>\n",
       "      <td>0.0</td>\n",
       "      <td>0.000000</td>\n",
       "      <td>0.000000</td>\n",
       "      <td>1.0</td>\n",
       "      <td>1.0</td>\n",
       "      <td>0</td>\n",
       "      <td>2024-04-23 08:34:49+00:00</td>\n",
       "      <td>256.0</td>\n",
       "      <td>1</td>\n",
       "    </tr>\n",
       "    <tr>\n",
       "      <th>1</th>\n",
       "      <td>04050ff3-37d3-4f18-abc6-0d7203d0106f</td>\n",
       "      <td>redacted@wydaemailexample.com</td>\n",
       "      <td>unknown</td>\n",
       "      <td>2025-04-14 20:02:47+00:00</td>\n",
       "      <td>2025-04-14T20:02:47Z</td>\n",
       "      <td>2025-04-14 20:02:47+00:00</td>\n",
       "      <td>2025-04-14T20:02:47Z</td>\n",
       "      <td>40.0</td>\n",
       "      <td>17.0</td>\n",
       "      <td>33.202707</td>\n",
       "      <td>...</td>\n",
       "      <td>557.866667</td>\n",
       "      <td>0.0</td>\n",
       "      <td>83.415385</td>\n",
       "      <td>0.823529</td>\n",
       "      <td>1.0</td>\n",
       "      <td>17.0</td>\n",
       "      <td>1</td>\n",
       "      <td>2024-10-22 16:08:39+00:00</td>\n",
       "      <td>73.0</td>\n",
       "      <td>0</td>\n",
       "    </tr>\n",
       "    <tr>\n",
       "      <th>2</th>\n",
       "      <td>095af668-642a-40d2-abed-6fe199220ce0</td>\n",
       "      <td>redacted@wydaemailexample.com</td>\n",
       "      <td>unknown</td>\n",
       "      <td>2025-04-14 20:04:15+00:00</td>\n",
       "      <td>2025-04-14T20:04:15Z</td>\n",
       "      <td>2025-04-14 20:04:15+00:00</td>\n",
       "      <td>2025-04-14T20:04:15Z</td>\n",
       "      <td>28.0</td>\n",
       "      <td>12.0</td>\n",
       "      <td>39.509918</td>\n",
       "      <td>...</td>\n",
       "      <td>441.133333</td>\n",
       "      <td>0.0</td>\n",
       "      <td>109.420000</td>\n",
       "      <td>0.916667</td>\n",
       "      <td>1.0</td>\n",
       "      <td>12.0</td>\n",
       "      <td>0</td>\n",
       "      <td>2024-10-09 00:41:30+00:00</td>\n",
       "      <td>87.0</td>\n",
       "      <td>1</td>\n",
       "    </tr>\n",
       "    <tr>\n",
       "      <th>3</th>\n",
       "      <td>0c78fdf3-85c4-4afe-85b2-851fe32a2a54</td>\n",
       "      <td>redacted@wydaemailexample.com</td>\n",
       "      <td>unknown</td>\n",
       "      <td>2025-04-14 20:04:48+00:00</td>\n",
       "      <td>2025-04-14T20:04:48Z</td>\n",
       "      <td>2025-04-14 20:04:48+00:00</td>\n",
       "      <td>2025-04-14T20:04:48Z</td>\n",
       "      <td>41.0</td>\n",
       "      <td>17.0</td>\n",
       "      <td>34.010438</td>\n",
       "      <td>...</td>\n",
       "      <td>2402.116667</td>\n",
       "      <td>0.0</td>\n",
       "      <td>44.885714</td>\n",
       "      <td>0.882353</td>\n",
       "      <td>1.0</td>\n",
       "      <td>17.0</td>\n",
       "      <td>1</td>\n",
       "      <td>2024-10-21 11:54:31+00:00</td>\n",
       "      <td>75.0</td>\n",
       "      <td>0</td>\n",
       "    </tr>\n",
       "    <tr>\n",
       "      <th>4</th>\n",
       "      <td>0feb4760-6f29-4532-ab2d-ca114fd4f0c7</td>\n",
       "      <td>redacted@wydaemailexample.com</td>\n",
       "      <td>unknown</td>\n",
       "      <td>2025-04-14 20:17:56+00:00</td>\n",
       "      <td>2025-04-14T20:17:56Z</td>\n",
       "      <td>2025-04-14 20:17:56+00:00</td>\n",
       "      <td>2025-04-14T20:17:56Z</td>\n",
       "      <td>0.0</td>\n",
       "      <td>0.0</td>\n",
       "      <td>0.000000</td>\n",
       "      <td>...</td>\n",
       "      <td>0.000000</td>\n",
       "      <td>0.0</td>\n",
       "      <td>0.000000</td>\n",
       "      <td>0.000000</td>\n",
       "      <td>0.0</td>\n",
       "      <td>0.0</td>\n",
       "      <td>0</td>\n",
       "      <td>NaT</td>\n",
       "      <td>inf</td>\n",
       "      <td>1</td>\n",
       "    </tr>\n",
       "  </tbody>\n",
       "</table>\n",
       "<p>5 rows × 30 columns</p>\n",
       "</div>"
      ],
      "text/plain": [
       "                                user_id                          email  \\\n",
       "0  008edba3-77e9-4b9b-a047-da5a1b98fd75  redacted@wydaemailexample.com   \n",
       "1  04050ff3-37d3-4f18-abc6-0d7203d0106f  redacted@wydaemailexample.com   \n",
       "2  095af668-642a-40d2-abed-6fe199220ce0  redacted@wydaemailexample.com   \n",
       "3  0c78fdf3-85c4-4afe-85b2-851fe32a2a54  redacted@wydaemailexample.com   \n",
       "4  0feb4760-6f29-4532-ab2d-ca114fd4f0c7  redacted@wydaemailexample.com   \n",
       "\n",
       "    region                created_at             createdAt  \\\n",
       "0  unknown 2025-04-14 20:57:25+00:00  2025-04-14T20:57:25Z   \n",
       "1  unknown 2025-04-14 20:02:47+00:00  2025-04-14T20:02:47Z   \n",
       "2  unknown 2025-04-14 20:04:15+00:00  2025-04-14T20:04:15Z   \n",
       "3  unknown 2025-04-14 20:04:48+00:00  2025-04-14T20:04:48Z   \n",
       "4  unknown 2025-04-14 20:17:56+00:00  2025-04-14T20:17:56Z   \n",
       "\n",
       "                 updated_at             updatedAt  n_attempts  n_passed  \\\n",
       "0 2025-04-14 20:57:25+00:00  2025-04-14T20:57:25Z         1.0       1.0   \n",
       "1 2025-04-14 20:02:47+00:00  2025-04-14T20:02:47Z        40.0      17.0   \n",
       "2 2025-04-14 20:04:15+00:00  2025-04-14T20:04:15Z        28.0      12.0   \n",
       "3 2025-04-14 20:04:48+00:00  2025-04-14T20:04:48Z        41.0      17.0   \n",
       "4 2025-04-14 20:17:56+00:00  2025-04-14T20:17:56Z         0.0       0.0   \n",
       "\n",
       "   mean_gap_hours  ...  total_minutes_spent  wellbeing_mean  \\\n",
       "0        0.000000  ...            11.916667             0.0   \n",
       "1       33.202707  ...           557.866667             0.0   \n",
       "2       39.509918  ...           441.133333             0.0   \n",
       "3       34.010438  ...          2402.116667             0.0   \n",
       "4        0.000000  ...             0.000000             0.0   \n",
       "\n",
       "   avg_reflection_len  retry_rate  avg_attempts_to_pass  n_scenarios_passed  \\\n",
       "0            0.000000    0.000000                   1.0                 1.0   \n",
       "1           83.415385    0.823529                   1.0                17.0   \n",
       "2          109.420000    0.916667                   1.0                12.0   \n",
       "3           44.885714    0.882353                   1.0                17.0   \n",
       "4            0.000000    0.000000                   0.0                 0.0   \n",
       "\n",
       "   module_complete                    cutoff  days_since_last  fall_behind  \n",
       "0                0 2024-04-23 08:34:49+00:00            256.0            1  \n",
       "1                1 2024-10-22 16:08:39+00:00             73.0            0  \n",
       "2                0 2024-10-09 00:41:30+00:00             87.0            1  \n",
       "3                1 2024-10-21 11:54:31+00:00             75.0            0  \n",
       "4                0                       NaT              inf            1  \n",
       "\n",
       "[5 rows x 30 columns]"
      ]
     },
     "execution_count": 17,
     "metadata": {},
     "output_type": "execute_result"
    }
   ],
   "source": [
    "features.head()"
   ]
  },
  {
   "cell_type": "markdown",
   "id": "aefe6eb3",
   "metadata": {},
   "source": [
    "| Feature | Meaning / Formula |\n",
    "|----------|------------------|\n",
    "| **n_attempts** | Total scenario launches per learner → `attempts.groupby(\"user_id\").size()` |\n",
    "| **n_passed** | Count of attempts with `state == \"passed\"` → `(attempts[\"state\"]==\"passed\").groupby(attempts[\"user_id\"]).sum()` |\n",
    "| **mean_gap_hours** | Mean time gap between consecutive attempts → `((finished_at - prev_time).dt.total_seconds().groupby(user_id).mean()) / 3600` |\n",
    "| **n_question_rows** | Number of rows answered in *ScenariosResponses* → `responses.groupby(\"user_id\").size()` |\n",
    "| **n_reflections** | Reflection rows per learner → `reflect.groupby(\"user_id\").size()` |\n",
    "| **txt_completion_rate** | Share of reflections with non-blank text → `(response.notna() & response.str.len()>0).mean()` per user |\n",
    "| **n_retries_no_pass** | # scenarios tried > 1× and never passed → see `tmp.query(\"n_attempts>1 & any_pass==False\")` then count per user |\n",
    "| **pass_rate** | Success ratio → `n_passed / n_attempts` |\n",
    "| **recent_7d_attempts** | Attempts in last 7 days → `attempts[finished_at ≥ today-7d].groupby(user_id).size()` |\n",
    "| **distinct_days_active** | Unique calendar days with activity → `finished_at.dt.date.nunique()` per user |\n",
    "| **longest_activity_streak** | Longest run of consecutive active days (custom `longest_streak` function) |\n",
    "| **avg_points** | Mean of `points` → `attempts.groupby(user_id)[\"points\"].mean()` |\n",
    "| **points_std** | Std-dev of `points` per learner |\n",
    "| **total_minutes_spent** | Σ `duration`|\n",
    "| **wellbeing_mean** | Mean self-reported wellbeing (median-imputed) |\n",
    "| **avg_reflection_len** | Average characters in reflection text |\n",
    "| **retry_rate** | Share of scenarios with > 1 attempt → `groupby(user_id, scenario_id).size().gt(1).mean()` per user |\n",
    "| **avg_attempts_to_pass** | Mean attempts needed until first pass per scenario |\n",
    "| **n_scenarios_passed** | Distinct scenarios ever passed |\n",
    "| **module_complete** | 1 if `n_scenarios_passed` ≥ total scenarios |\n",
    "| **cutoff** | `last_finished_attempt + 7 days` |\n",
    "| **days_since_last** | `(today − cutoff + 7 days).dt.days` |\n",
    "| **fall_behind** | Target: `(days_since_last ≥ 7) & (module_complete == 0)` |"
   ]
  },
  {
   "cell_type": "markdown",
   "id": "af4ab603",
   "metadata": {},
   "source": [
    "# 8 Sanity-check the finished feature table"
   ]
  },
  {
   "cell_type": "code",
   "execution_count": 37,
   "id": "2f9369d6",
   "metadata": {},
   "outputs": [
    {
     "name": "stdout",
     "output_type": "stream",
     "text": [
      "features shape : (47, 30)\n",
      "sample rows ->\n"
     ]
    },
    {
     "data": {
      "text/html": [
       "<div>\n",
       "<style scoped>\n",
       "    .dataframe tbody tr th:only-of-type {\n",
       "        vertical-align: middle;\n",
       "    }\n",
       "\n",
       "    .dataframe tbody tr th {\n",
       "        vertical-align: top;\n",
       "    }\n",
       "\n",
       "    .dataframe thead th {\n",
       "        text-align: right;\n",
       "    }\n",
       "</style>\n",
       "<table border=\"1\" class=\"dataframe\">\n",
       "  <thead>\n",
       "    <tr style=\"text-align: right;\">\n",
       "      <th></th>\n",
       "      <th>user_id</th>\n",
       "      <th>email</th>\n",
       "      <th>region</th>\n",
       "      <th>created_at</th>\n",
       "      <th>createdAt</th>\n",
       "      <th>updated_at</th>\n",
       "      <th>updatedAt</th>\n",
       "      <th>n_attempts</th>\n",
       "      <th>n_passed</th>\n",
       "      <th>mean_gap_hours</th>\n",
       "      <th>...</th>\n",
       "      <th>total_minutes_spent</th>\n",
       "      <th>wellbeing_mean</th>\n",
       "      <th>avg_reflection_len</th>\n",
       "      <th>retry_rate</th>\n",
       "      <th>avg_attempts_to_pass</th>\n",
       "      <th>n_scenarios_passed</th>\n",
       "      <th>module_complete</th>\n",
       "      <th>cutoff</th>\n",
       "      <th>days_since_last</th>\n",
       "      <th>fall_behind</th>\n",
       "    </tr>\n",
       "  </thead>\n",
       "  <tbody>\n",
       "    <tr>\n",
       "      <th>0</th>\n",
       "      <td>008edba3-77e9-4b9b-a047-da5a1b98fd75</td>\n",
       "      <td>redacted@wydaemailexample.com</td>\n",
       "      <td>unknown</td>\n",
       "      <td>2025-04-14 20:57:25+00:00</td>\n",
       "      <td>2025-04-14T20:57:25Z</td>\n",
       "      <td>2025-04-14 20:57:25+00:00</td>\n",
       "      <td>2025-04-14T20:57:25Z</td>\n",
       "      <td>1.0</td>\n",
       "      <td>1.0</td>\n",
       "      <td>0.000000</td>\n",
       "      <td>...</td>\n",
       "      <td>11.916667</td>\n",
       "      <td>0.0</td>\n",
       "      <td>0.000000</td>\n",
       "      <td>0.000000</td>\n",
       "      <td>1.0</td>\n",
       "      <td>1.0</td>\n",
       "      <td>0</td>\n",
       "      <td>2024-04-23 08:34:49+00:00</td>\n",
       "      <td>256.0</td>\n",
       "      <td>1</td>\n",
       "    </tr>\n",
       "    <tr>\n",
       "      <th>1</th>\n",
       "      <td>04050ff3-37d3-4f18-abc6-0d7203d0106f</td>\n",
       "      <td>redacted@wydaemailexample.com</td>\n",
       "      <td>unknown</td>\n",
       "      <td>2025-04-14 20:02:47+00:00</td>\n",
       "      <td>2025-04-14T20:02:47Z</td>\n",
       "      <td>2025-04-14 20:02:47+00:00</td>\n",
       "      <td>2025-04-14T20:02:47Z</td>\n",
       "      <td>40.0</td>\n",
       "      <td>17.0</td>\n",
       "      <td>33.202707</td>\n",
       "      <td>...</td>\n",
       "      <td>557.866667</td>\n",
       "      <td>0.0</td>\n",
       "      <td>83.415385</td>\n",
       "      <td>0.823529</td>\n",
       "      <td>1.0</td>\n",
       "      <td>17.0</td>\n",
       "      <td>1</td>\n",
       "      <td>2024-10-22 16:08:39+00:00</td>\n",
       "      <td>73.0</td>\n",
       "      <td>0</td>\n",
       "    </tr>\n",
       "    <tr>\n",
       "      <th>2</th>\n",
       "      <td>095af668-642a-40d2-abed-6fe199220ce0</td>\n",
       "      <td>redacted@wydaemailexample.com</td>\n",
       "      <td>unknown</td>\n",
       "      <td>2025-04-14 20:04:15+00:00</td>\n",
       "      <td>2025-04-14T20:04:15Z</td>\n",
       "      <td>2025-04-14 20:04:15+00:00</td>\n",
       "      <td>2025-04-14T20:04:15Z</td>\n",
       "      <td>28.0</td>\n",
       "      <td>12.0</td>\n",
       "      <td>39.509918</td>\n",
       "      <td>...</td>\n",
       "      <td>441.133333</td>\n",
       "      <td>0.0</td>\n",
       "      <td>109.420000</td>\n",
       "      <td>0.916667</td>\n",
       "      <td>1.0</td>\n",
       "      <td>12.0</td>\n",
       "      <td>0</td>\n",
       "      <td>2024-10-09 00:41:30+00:00</td>\n",
       "      <td>87.0</td>\n",
       "      <td>1</td>\n",
       "    </tr>\n",
       "    <tr>\n",
       "      <th>3</th>\n",
       "      <td>0c78fdf3-85c4-4afe-85b2-851fe32a2a54</td>\n",
       "      <td>redacted@wydaemailexample.com</td>\n",
       "      <td>unknown</td>\n",
       "      <td>2025-04-14 20:04:48+00:00</td>\n",
       "      <td>2025-04-14T20:04:48Z</td>\n",
       "      <td>2025-04-14 20:04:48+00:00</td>\n",
       "      <td>2025-04-14T20:04:48Z</td>\n",
       "      <td>41.0</td>\n",
       "      <td>17.0</td>\n",
       "      <td>34.010438</td>\n",
       "      <td>...</td>\n",
       "      <td>2402.116667</td>\n",
       "      <td>0.0</td>\n",
       "      <td>44.885714</td>\n",
       "      <td>0.882353</td>\n",
       "      <td>1.0</td>\n",
       "      <td>17.0</td>\n",
       "      <td>1</td>\n",
       "      <td>2024-10-21 11:54:31+00:00</td>\n",
       "      <td>75.0</td>\n",
       "      <td>0</td>\n",
       "    </tr>\n",
       "    <tr>\n",
       "      <th>4</th>\n",
       "      <td>0feb4760-6f29-4532-ab2d-ca114fd4f0c7</td>\n",
       "      <td>redacted@wydaemailexample.com</td>\n",
       "      <td>unknown</td>\n",
       "      <td>2025-04-14 20:17:56+00:00</td>\n",
       "      <td>2025-04-14T20:17:56Z</td>\n",
       "      <td>2025-04-14 20:17:56+00:00</td>\n",
       "      <td>2025-04-14T20:17:56Z</td>\n",
       "      <td>0.0</td>\n",
       "      <td>0.0</td>\n",
       "      <td>0.000000</td>\n",
       "      <td>...</td>\n",
       "      <td>0.000000</td>\n",
       "      <td>0.0</td>\n",
       "      <td>0.000000</td>\n",
       "      <td>0.000000</td>\n",
       "      <td>0.0</td>\n",
       "      <td>0.0</td>\n",
       "      <td>0</td>\n",
       "      <td>NaT</td>\n",
       "      <td>inf</td>\n",
       "      <td>1</td>\n",
       "    </tr>\n",
       "  </tbody>\n",
       "</table>\n",
       "<p>5 rows × 30 columns</p>\n",
       "</div>"
      ],
      "text/plain": [
       "                                user_id                          email  \\\n",
       "0  008edba3-77e9-4b9b-a047-da5a1b98fd75  redacted@wydaemailexample.com   \n",
       "1  04050ff3-37d3-4f18-abc6-0d7203d0106f  redacted@wydaemailexample.com   \n",
       "2  095af668-642a-40d2-abed-6fe199220ce0  redacted@wydaemailexample.com   \n",
       "3  0c78fdf3-85c4-4afe-85b2-851fe32a2a54  redacted@wydaemailexample.com   \n",
       "4  0feb4760-6f29-4532-ab2d-ca114fd4f0c7  redacted@wydaemailexample.com   \n",
       "\n",
       "    region                created_at             createdAt  \\\n",
       "0  unknown 2025-04-14 20:57:25+00:00  2025-04-14T20:57:25Z   \n",
       "1  unknown 2025-04-14 20:02:47+00:00  2025-04-14T20:02:47Z   \n",
       "2  unknown 2025-04-14 20:04:15+00:00  2025-04-14T20:04:15Z   \n",
       "3  unknown 2025-04-14 20:04:48+00:00  2025-04-14T20:04:48Z   \n",
       "4  unknown 2025-04-14 20:17:56+00:00  2025-04-14T20:17:56Z   \n",
       "\n",
       "                 updated_at             updatedAt  n_attempts  n_passed  \\\n",
       "0 2025-04-14 20:57:25+00:00  2025-04-14T20:57:25Z         1.0       1.0   \n",
       "1 2025-04-14 20:02:47+00:00  2025-04-14T20:02:47Z        40.0      17.0   \n",
       "2 2025-04-14 20:04:15+00:00  2025-04-14T20:04:15Z        28.0      12.0   \n",
       "3 2025-04-14 20:04:48+00:00  2025-04-14T20:04:48Z        41.0      17.0   \n",
       "4 2025-04-14 20:17:56+00:00  2025-04-14T20:17:56Z         0.0       0.0   \n",
       "\n",
       "   mean_gap_hours  ...  total_minutes_spent  wellbeing_mean  \\\n",
       "0        0.000000  ...            11.916667             0.0   \n",
       "1       33.202707  ...           557.866667             0.0   \n",
       "2       39.509918  ...           441.133333             0.0   \n",
       "3       34.010438  ...          2402.116667             0.0   \n",
       "4        0.000000  ...             0.000000             0.0   \n",
       "\n",
       "   avg_reflection_len  retry_rate  avg_attempts_to_pass  n_scenarios_passed  \\\n",
       "0            0.000000    0.000000                   1.0                 1.0   \n",
       "1           83.415385    0.823529                   1.0                17.0   \n",
       "2          109.420000    0.916667                   1.0                12.0   \n",
       "3           44.885714    0.882353                   1.0                17.0   \n",
       "4            0.000000    0.000000                   0.0                 0.0   \n",
       "\n",
       "   module_complete                    cutoff  days_since_last  fall_behind  \n",
       "0                0 2024-04-23 08:34:49+00:00            256.0            1  \n",
       "1                1 2024-10-22 16:08:39+00:00             73.0            0  \n",
       "2                0 2024-10-09 00:41:30+00:00             87.0            1  \n",
       "3                1 2024-10-21 11:54:31+00:00             75.0            0  \n",
       "4                0                       NaT              inf            1  \n",
       "\n",
       "[5 rows x 30 columns]"
      ]
     },
     "metadata": {},
     "output_type": "display_data"
    },
    {
     "name": "stdout",
     "output_type": "stream",
     "text": [
      "fall_behind distribution:\n",
      " 0    25\n",
      "1    22\n",
      "Name: fall_behind, dtype: int64\n",
      "Sanity checks passed\n"
     ]
    }
   ],
   "source": [
    "# 8-A  •basic overview\n",
    "print(\"features shape :\", features.shape)\n",
    "print(\"sample rows ->\")\n",
    "display(features.head())\n",
    "\n",
    "# 8-B  • make sure the target exists and is binary\n",
    "print(\"fall_behind distribution:\\n\", features[\"fall_behind\"].value_counts(dropna=False))\n",
    "assert features[\"fall_behind\"].isin([0,1]).all(), \"Non-binary target!\"\n",
    "\n",
    "# 8-C  • confirm no dupes\n",
    "assert features[\"user_id\"].is_unique, \"duplicate user_ids\"\n",
    "print(\"Sanity checks passed\")\n"
   ]
  },
  {
   "cell_type": "code",
   "execution_count": 38,
   "id": "8643e974",
   "metadata": {},
   "outputs": [],
   "source": [
    "features.to_csv(\"/Users/benymean/Desktop/WYDA Data/Test Data/features.csv\", index=False)"
   ]
  },
  {
   "cell_type": "markdown",
   "id": "a17dd4db",
   "metadata": {},
   "source": [
    "# 9 Define X (predictors) and y (target)"
   ]
  },
  {
   "cell_type": "code",
   "execution_count": 39,
   "id": "264d5372",
   "metadata": {},
   "outputs": [
    {
     "name": "stdout",
     "output_type": "stream",
     "text": [
      "Predictor matrix: (47, 20) Target: (47,)\n"
     ]
    }
   ],
   "source": [
    "# 9-A  • columns to drop (ID, PII, explicit target, strong leak)\n",
    "drop_cols = [\n",
    "    \"user_id\", \"email\", \"region\",        # identifiers/PII\n",
    "    \"created_at\", \"updated_at\",          # timestamp metadata\n",
    "    \"createdAt\", \"updatedAt\",            # string duplicates\n",
    "    \"cutoff\", \"days_since_last\",         # leaks target definition\n",
    "    \"fall_behind\"                        # the target itself\n",
    "]\n",
    "\n",
    "X = features.drop(columns=drop_cols, errors=\"ignore\")\n",
    "y = features[\"fall_behind\"]\n",
    "\n",
    "# 9-B  • *only* numeric columns in X\n",
    "X = X.select_dtypes(include=[\"number\"])\n",
    "assert X.isna().sum().sum() == 0, \"Nan found in predictors!\"\n",
    "\n",
    "print(\"Predictor matrix:\", X.shape, \"Target:\", y.shape)\n"
   ]
  },
  {
   "cell_type": "markdown",
   "id": "1ed3bb13",
   "metadata": {},
   "source": [
    "# 10 Train / test split (stratified)"
   ]
  },
  {
   "cell_type": "code",
   "execution_count": 40,
   "id": "a8840947",
   "metadata": {},
   "outputs": [
    {
     "name": "stdout",
     "output_type": "stream",
     "text": [
      "Train class balance : {0: 0.5428571428571428, 1: 0.45714285714285713}\n",
      "Test  class balance : {1: 0.5, 0: 0.5}\n"
     ]
    }
   ],
   "source": [
    "from sklearn.model_selection import train_test_split\n",
    "\n",
    "X_train, X_test, y_train, y_test = train_test_split(\n",
    "    X, y, test_size=0.25, stratify=y, random_state=42)\n",
    "\n",
    "print(\"Train class balance :\", y_train.value_counts(normalize=True).to_dict())\n",
    "print(\"Test  class balance :\", y_test.value_counts(normalize=True).to_dict())"
   ]
  },
  {
   "cell_type": "markdown",
   "id": "9bba1512",
   "metadata": {},
   "source": [
    "# 11 Baseline model — logistic regression with standard scaling"
   ]
  },
  {
   "cell_type": "code",
   "execution_count": 41,
   "id": "95333598",
   "metadata": {},
   "outputs": [
    {
     "name": "stdout",
     "output_type": "stream",
     "text": [
      "Baseline logistic trained\n"
     ]
    }
   ],
   "source": [
    "from sklearn.pipeline      import make_pipeline\n",
    "from sklearn.preprocessing import StandardScaler\n",
    "from sklearn.linear_model  import LogisticRegression\n",
    "\n",
    "logit_pipe = make_pipeline(\n",
    "    StandardScaler(),\n",
    "    LogisticRegression(max_iter=1000, class_weight=\"balanced\")\n",
    ")\n",
    "\n",
    "logit_pipe.fit(X_train, y_train)\n",
    "print(\"Baseline logistic trained\")\n"
   ]
  },
  {
   "cell_type": "markdown",
   "id": "c4038389",
   "metadata": {},
   "source": [
    "# 12 Evaluate baseline"
   ]
  },
  {
   "cell_type": "code",
   "execution_count": 42,
   "id": "5ef3ca67",
   "metadata": {},
   "outputs": [
    {
     "name": "stdout",
     "output_type": "stream",
     "text": [
      "              precision    recall  f1-score   support\n",
      "\n",
      "           0      0.857     1.000     0.923         6\n",
      "           1      1.000     0.833     0.909         6\n",
      "\n",
      "    accuracy                          0.917        12\n",
      "   macro avg      0.929     0.917     0.916        12\n",
      "weighted avg      0.929     0.917     0.916        12\n",
      "\n",
      "Confusion matrix:\n",
      "[[6 0]\n",
      " [1 5]]\n"
     ]
    }
   ],
   "source": [
    "from sklearn.metrics import classification_report, confusion_matrix\n",
    "\n",
    "y_pred = logit_pipe.predict(X_test)\n",
    "print(classification_report(y_test, y_pred, digits=3))\n",
    "\n",
    "print(\"Confusion matrix:\")\n",
    "print(confusion_matrix(y_test, y_pred))\n",
    "\n",
    "# quick numeric test to be sure the model learned *something*\n",
    "from sklearn.metrics import f1_score\n",
    "assert f1_score(y_test, y_pred) > 0, \"F1 is zero — model not learning\"\n"
   ]
  },
  {
   "cell_type": "markdown",
   "id": "c1fb4fe5",
   "metadata": {},
   "source": [
    "# 13 tree-based model for a stronger baseline"
   ]
  },
  {
   "cell_type": "code",
   "execution_count": 43,
   "id": "5fbfaa4f",
   "metadata": {},
   "outputs": [
    {
     "name": "stdout",
     "output_type": "stream",
     "text": [
      "              precision    recall  f1-score   support\n",
      "\n",
      "           0      1.000     1.000     1.000         6\n",
      "           1      1.000     1.000     1.000         6\n",
      "\n",
      "    accuracy                          1.000        12\n",
      "   macro avg      1.000     1.000     1.000        12\n",
      "weighted avg      1.000     1.000     1.000        12\n",
      "\n"
     ]
    }
   ],
   "source": [
    "from sklearn.ensemble import GradientBoostingClassifier\n",
    "\n",
    "tree_clf = GradientBoostingClassifier(random_state=42)\n",
    "tree_clf.fit(X_train, y_train)\n",
    "\n",
    "y_pred_tree = tree_clf.predict(X_test)\n",
    "print(classification_report(y_test, y_pred_tree, digits=3))\n"
   ]
  },
  {
   "cell_type": "markdown",
   "id": "055519b9",
   "metadata": {},
   "source": [
    "# 14 Robust train / test split (k-fold CV)"
   ]
  },
  {
   "cell_type": "code",
   "execution_count": 44,
   "id": "0b7ed94c",
   "metadata": {},
   "outputs": [
    {
     "name": "stdout",
     "output_type": "stream",
     "text": [
      "Logit 5-fold F1: [1.    0.889 1.    1.    1.   ]   mean=0.978\n",
      "GB 5-fold F1: [1. 1. 1. 1. 1.]   mean=1.000\n"
     ]
    }
   ],
   "source": [
    "from sklearn.model_selection import StratifiedKFold, cross_val_score\n",
    "from sklearn.pipeline       import make_pipeline\n",
    "from sklearn.preprocessing  import StandardScaler\n",
    "from sklearn.linear_model   import LogisticRegression\n",
    "from sklearn.ensemble       import GradientBoostingClassifier\n",
    "\n",
    "# predictors\n",
    "drop_cols = [\"user_id\",\"email\",\"region\",\"created_at\",\"updated_at\",\n",
    "             \"createdAt\",\"updatedAt\",\"cutoff\",\"days_since_last\",\"fall_behind\"]\n",
    "X = features.drop(columns=drop_cols, errors=\"ignore\").select_dtypes(include=[\"number\"])\n",
    "y = features[\"fall_behind\"]\n",
    "\n",
    "cv = StratifiedKFold(n_splits=5, shuffle=True, random_state=42)\n",
    "\n",
    "logit = make_pipeline(StandardScaler(),\n",
    "                      LogisticRegression(max_iter=1000, class_weight=\"balanced\"))\n",
    "\n",
    "gb    = GradientBoostingClassifier(random_state=42, max_depth=2, n_estimators=50)\n",
    "\n",
    "for name, model in [(\"Logit\", logit), (\"GB\", gb)]:\n",
    "    f1 = cross_val_score(model, X, y, cv=cv, scoring=\"f1\")\n",
    "    print(f\"{name} 5-fold F1: {f1.round(3)}   mean={f1.mean():.3f}\")\n"
   ]
  },
  {
   "cell_type": "code",
   "execution_count": 45,
   "id": "a862b743",
   "metadata": {},
   "outputs": [],
   "source": [
    "assert f1.mean() > 0, \"Model still not learning\"\n"
   ]
  },
  {
   "cell_type": "markdown",
   "id": "5c1a4259",
   "metadata": {},
   "source": [
    "# 15 Final fit on full data & feature importance"
   ]
  },
  {
   "cell_type": "code",
   "execution_count": 46,
   "id": "efacfc7e",
   "metadata": {},
   "outputs": [
    {
     "name": "stdout",
     "output_type": "stream",
     "text": [
      "Top 10 features driving GB model:\n"
     ]
    },
    {
     "data": {
      "text/plain": [
       "module_complete        3.137469e-01\n",
       "n_passed               2.868438e-01\n",
       "points_std             1.940518e-01\n",
       "n_question_rows        1.798732e-01\n",
       "n_attempts             1.715235e-02\n",
       "n_scenarios_passed     8.331998e-03\n",
       "avg_reflection_len     3.195609e-16\n",
       "txt_completion_rate    0.000000e+00\n",
       "n_retries_no_pass      0.000000e+00\n",
       "pass_rate              0.000000e+00\n",
       "dtype: float64"
      ]
     },
     "metadata": {},
     "output_type": "display_data"
    },
    {
     "data": {
      "image/png": "[encoded data removed]",
      "text/plain": [
       "<Figure size 640x480 with 1 Axes>"
      ]
     },
     "metadata": {},
     "output_type": "display_data"
    }
   ],
   "source": [
    "gb.fit(X, y)                       # full-data fit\n",
    "importances = (pd.Series(gb.feature_importances_, index=X.columns)\n",
    "                 .sort_values(ascending=False))\n",
    "\n",
    "print(\"Top 10 features driving GB model:\")\n",
    "display(importances.head(10))\n",
    "\n",
    "# optional: plot\n",
    "import matplotlib.pyplot as plt\n",
    "importances.head(10).plot(kind=\"barh\")\n",
    "plt.gca().invert_yaxis()\n",
    "plt.title(\"Top 10 GB Feature Importances\")\n",
    "plt.show()\n"
   ]
  },
  {
   "cell_type": "markdown",
   "id": "0f0ce6e3",
   "metadata": {},
   "source": [
    "# Verdict\n",
    "| Aspect | What you saw | What it means |\n",
    "|--------|--------------|---------------|\n",
    "| **Single 75 / 25 split** | Logistic ≈ 92 % accuracy, GB = 100 % | Test set is only **12 learners**; one flip changes accuracy by 8 %. |\n",
    "| **5-fold CV** | Logistic F1 ≈ 0.98, GB F1 = 1.00 every fold | Cross-validation confirms the model almost never mis-labels in *any* fold—still a red flag for over-fit or label leakage. |\n",
    "| **Feature importances (GB)** | Top weights: `n_attempts, points_std, n_question_rows, n_scenarios_passed` | Model focuses on *volume* and *spread of scores*—intuitively sensible. Quick-wins like `pass_rate` carry zero weight, suggesting they’re redundant with the top four. |\n",
    "\n",
    "\n",
    "- perfect scores are too good to be true -> Tiny dataset\n",
    "\n",
    "- Potential label leakage\n",
    "Recent-7-day features overlap fall_behind rules\n",
    "Even though we excluded days_since_last, the model learn a near-proxy (recent_7d_attempts = 0 ➜ very likely behind)\n",
    "\n",
    "\n",
    "# Suggested next steps\n",
    "\n",
    "| Step | Why |\n",
    "|------|-----|\n",
    "| **1. Remove obvious proxies for the label** | Forces the model to use deeper signals (gap cadence, reflection behaviour). |\n",
    "| **2. Robust time-based validation** | Train on learners who finished *before* Oct-2024; test on the last cohort. Mimics real deployment and breaks any temporal leakage. |\n",
    "| **3. Simpler model as sanity check** | Using a `DummyClassifier` to confirm the lift you get from real features. |\n",
    "| **4. Calibration & threshold tuning** | Coaches may want high-recall -> a threshold > 0.5. |\n",
    "| **6. Collect more labelled data** | Combine two or three cohorts if possible to give more reliable CV variance. |"
   ]
  }
 ],
 "metadata": {
  "kernelspec": {
   "display_name": "Python 3 (ipykernel)",
   "language": "python",
   "name": "python3"
  },
  "language_info": {
   "codemirror_mode": {
    "name": "ipython",
    "version": 3
   },
   "file_extension": ".py",
   "mimetype": "text/x-python",
   "name": "python",
   "nbconvert_exporter": "python",
   "pygments_lexer": "ipython3",
   "version": "3.11.3"
  }
 },
 "nbformat": 4,
 "nbformat_minor": 5
}
